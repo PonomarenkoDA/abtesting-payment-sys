{
 "cells": [
  {
   "cell_type": "markdown",
   "metadata": {},
   "source": [
    "# <u>Анализ образовательного проекта (EdTech)</u> <span style=\"color: #D3D3D3;\">by Ponomarenko</span>\n",
    "Импортируем библиотеки и определим графические параметры"
   ]
  },
  {
   "cell_type": "code",
   "execution_count": 2,
   "metadata": {},
   "outputs": [],
   "source": [
    "# Импорт библиотек\n",
    "\n",
    "import pandas as pd\n",
    "import numpy as np\n",
    "import pandahouse as ph\n",
    "\n",
    "import pingouin as pg\n",
    "import scipy.stats as st\n",
    "\n",
    "import requests\n",
    "from urllib.parse import urlencode \n",
    "\n",
    "import seaborn as sns\n",
    "import matplotlib.pyplot as plt\n",
    "%matplotlib inline"
   ]
  },
  {
   "cell_type": "code",
   "execution_count": 3,
   "metadata": {},
   "outputs": [],
   "source": [
    "# Настройка графических параметров\n",
    "\n",
    "setting = sns.set(\n",
    "           font_scale=1.4,\n",
    "           style=\"white\",\n",
    "           rc={'figure.figsize':(20, 7)}\n",
    ")"
   ]
  },
  {
   "cell_type": "code",
   "execution_count": 4,
   "metadata": {},
   "outputs": [],
   "source": [
    "# Адреса исходных датасетов (для загрузки по API)\n",
    "\n",
    "pb_keys = {\n",
    "           'df_groups':      'https://disk.yandex.ru/d/UhyYx41rTt3clQ',\n",
    "           'df_groups_add':  'https://disk.yandex.ru/d/5Kxrz02m3IBUwQ', \n",
    "           'df_active_studs':'https://disk.yandex.ru/d/Tbs44Bm6H_FwFQ', \n",
    "           'df_checks':      'https://disk.yandex.ru/d/pH1q-VqcxXjsVA'\n",
    "          }"
   ]
  },
  {
   "cell_type": "code",
   "execution_count": 5,
   "metadata": {},
   "outputs": [],
   "source": [
    "# Функция считывания csv-файла по API Яндекс.Диска\n",
    "\n",
    "def load_dataset(public_key, delimeter):\n",
    "    \n",
    "    base_url  = 'https://cloud-api.yandex.net/v1/disk/public/resources/download?'\n",
    "    final_url = base_url + urlencode(dict(public_key=public_key))\n",
    "    response  = requests.get(final_url) \n",
    "    download_url = response.json()['href']\n",
    "    \n",
    "    return pd.read_csv(download_url, sep=delimeter)"
   ]
  },
  {
   "cell_type": "markdown",
   "metadata": {},
   "source": [
    "# <u> A/B - тестирование системы оплаты на сайте<u> \n",
    "    \n",
    "## Методика тестирования и задача:\n",
    "Команда образовательного проекта внедрила на сайт новую механику оплаты услуг – предполагается, что такая механика упростит процесс оплаты и поспособствует увеличению лояльности клиентов к проекту. Чтобы проверить эффективность новой механики оплаты услуг, был проведен АБ-тест. В группе B (тестовой) оказались пользователи с новой системой оплаты услуг, в группе A (контрольной) пользователи со старой версией системы, где не используется новая механика.\n",
    "\n",
    "**Сделать аналитическое заключение с ответом на вопрос, стоит ли включать систему оплаты услуг с новой механикой на всех пользователей.**"
   ]
  },
  {
   "cell_type": "markdown",
   "metadata": {},
   "source": [
    "## 1.1 EDA-анализ\n",
    "\n",
    "Получение основной информации о датафреймах и изучение особенностей данных в них.\n",
    "### а) Пользователи в группах (df_groups) "
   ]
  },
  {
   "cell_type": "code",
   "execution_count": 6,
   "metadata": {},
   "outputs": [
    {
     "data": {
      "text/html": [
       "<div>\n",
       "<style scoped>\n",
       "    .dataframe tbody tr th:only-of-type {\n",
       "        vertical-align: middle;\n",
       "    }\n",
       "\n",
       "    .dataframe tbody tr th {\n",
       "        vertical-align: top;\n",
       "    }\n",
       "\n",
       "    .dataframe thead th {\n",
       "        text-align: right;\n",
       "    }\n",
       "</style>\n",
       "<table border=\"1\" class=\"dataframe\">\n",
       "  <thead>\n",
       "    <tr style=\"text-align: right;\">\n",
       "      <th></th>\n",
       "      <th>id</th>\n",
       "      <th>grp</th>\n",
       "    </tr>\n",
       "  </thead>\n",
       "  <tbody>\n",
       "    <tr>\n",
       "      <th>0</th>\n",
       "      <td>1489</td>\n",
       "      <td>B</td>\n",
       "    </tr>\n",
       "    <tr>\n",
       "      <th>1</th>\n",
       "      <td>1627</td>\n",
       "      <td>A</td>\n",
       "    </tr>\n",
       "    <tr>\n",
       "      <th>2</th>\n",
       "      <td>1768</td>\n",
       "      <td>B</td>\n",
       "    </tr>\n",
       "    <tr>\n",
       "      <th>3</th>\n",
       "      <td>1783</td>\n",
       "      <td>B</td>\n",
       "    </tr>\n",
       "    <tr>\n",
       "      <th>4</th>\n",
       "      <td>1794</td>\n",
       "      <td>A</td>\n",
       "    </tr>\n",
       "  </tbody>\n",
       "</table>\n",
       "</div>"
      ],
      "text/plain": [
       "     id grp\n",
       "0  1489   B\n",
       "1  1627   A\n",
       "2  1768   B\n",
       "3  1783   B\n",
       "4  1794   A"
      ]
     },
     "execution_count": 6,
     "metadata": {},
     "output_type": "execute_result"
    }
   ],
   "source": [
    "df_groups = load_dataset(pb_keys['df_groups'], delimeter=';')\n",
    "df_groups.head()"
   ]
  },
  {
   "cell_type": "code",
   "execution_count": 7,
   "metadata": {},
   "outputs": [
    {
     "data": {
      "text/plain": [
       "(74484, 2)"
      ]
     },
     "execution_count": 7,
     "metadata": {},
     "output_type": "execute_result"
    }
   ],
   "source": [
    "# Размер df\n",
    "\n",
    "df_groups.shape"
   ]
  },
  {
   "cell_type": "code",
   "execution_count": 8,
   "metadata": {},
   "outputs": [
    {
     "data": {
      "text/plain": [
       "id     0\n",
       "grp    0\n",
       "dtype: int64"
      ]
     },
     "execution_count": 8,
     "metadata": {},
     "output_type": "execute_result"
    }
   ],
   "source": [
    "# Пропущенные значения не обнаружены\n",
    "\n",
    "df_groups.isna().sum()"
   ]
  },
  {
   "cell_type": "code",
   "execution_count": 9,
   "metadata": {},
   "outputs": [
    {
     "data": {
      "text/plain": [
       "id     74484\n",
       "grp        2\n",
       "dtype: int64"
      ]
     },
     "execution_count": 9,
     "metadata": {},
     "output_type": "execute_result"
    }
   ],
   "source": [
    "# Список пользоватателей полностью уникален\n",
    "\n",
    "df_groups.nunique()"
   ]
  },
  {
   "cell_type": "code",
   "execution_count": 10,
   "metadata": {},
   "outputs": [
    {
     "data": {
      "text/plain": [
       "B    59813\n",
       "A    14671\n",
       "Name: grp, dtype: int64"
      ]
     },
     "execution_count": 10,
     "metadata": {},
     "output_type": "execute_result"
    }
   ],
   "source": [
    "# Количество пользователей в группах\n",
    "\n",
    "df_groups.grp.value_counts()"
   ]
  },
  {
   "cell_type": "code",
   "execution_count": 11,
   "metadata": {
    "scrolled": true
   },
   "outputs": [
    {
     "name": "stdout",
     "output_type": "stream",
     "text": [
      "<class 'pandas.core.frame.DataFrame'>\n",
      "RangeIndex: 74484 entries, 0 to 74483\n",
      "Data columns (total 2 columns):\n",
      " #   Column  Non-Null Count  Dtype \n",
      "---  ------  --------------  ----- \n",
      " 0   id      74484 non-null  int64 \n",
      " 1   grp     74484 non-null  object\n",
      "dtypes: int64(1), object(1)"
     ]
    }
   ],
   "source": [
    "# Основная информация и типы данных\n",
    "\n",
    "df_groups.info(memory_usage=False)"
   ]
  },
  {
   "cell_type": "markdown",
   "metadata": {},
   "source": [
    "### б) Пользователи в группах - дополнительные (df_groups_add)"
   ]
  },
  {
   "cell_type": "code",
   "execution_count": 12,
   "metadata": {},
   "outputs": [
    {
     "data": {
      "text/html": [
       "<div>\n",
       "<style scoped>\n",
       "    .dataframe tbody tr th:only-of-type {\n",
       "        vertical-align: middle;\n",
       "    }\n",
       "\n",
       "    .dataframe tbody tr th {\n",
       "        vertical-align: top;\n",
       "    }\n",
       "\n",
       "    .dataframe thead th {\n",
       "        text-align: right;\n",
       "    }\n",
       "</style>\n",
       "<table border=\"1\" class=\"dataframe\">\n",
       "  <thead>\n",
       "    <tr style=\"text-align: right;\">\n",
       "      <th></th>\n",
       "      <th>id</th>\n",
       "      <th>grp</th>\n",
       "    </tr>\n",
       "  </thead>\n",
       "  <tbody>\n",
       "    <tr>\n",
       "      <th>0</th>\n",
       "      <td>5694584</td>\n",
       "      <td>B</td>\n",
       "    </tr>\n",
       "    <tr>\n",
       "      <th>1</th>\n",
       "      <td>5694830</td>\n",
       "      <td>B</td>\n",
       "    </tr>\n",
       "    <tr>\n",
       "      <th>2</th>\n",
       "      <td>5695057</td>\n",
       "      <td>B</td>\n",
       "    </tr>\n",
       "    <tr>\n",
       "      <th>3</th>\n",
       "      <td>5698872</td>\n",
       "      <td>B</td>\n",
       "    </tr>\n",
       "    <tr>\n",
       "      <th>4</th>\n",
       "      <td>5699067</td>\n",
       "      <td>B</td>\n",
       "    </tr>\n",
       "  </tbody>\n",
       "</table>\n",
       "</div>"
      ],
      "text/plain": [
       "        id grp\n",
       "0  5694584   B\n",
       "1  5694830   B\n",
       "2  5695057   B\n",
       "3  5698872   B\n",
       "4  5699067   B"
      ]
     },
     "execution_count": 12,
     "metadata": {},
     "output_type": "execute_result"
    }
   ],
   "source": [
    "df_groups_add = load_dataset(pb_keys['df_groups_add'], delimeter=',')\n",
    "df_groups_add.head()"
   ]
  },
  {
   "cell_type": "code",
   "execution_count": 13,
   "metadata": {},
   "outputs": [
    {
     "data": {
      "text/plain": [
       "(92, 2)"
      ]
     },
     "execution_count": 13,
     "metadata": {},
     "output_type": "execute_result"
    }
   ],
   "source": [
    "# Размер df\n",
    "\n",
    "df_groups_add.shape"
   ]
  },
  {
   "cell_type": "code",
   "execution_count": 14,
   "metadata": {},
   "outputs": [
    {
     "data": {
      "text/plain": [
       "id     0\n",
       "grp    0\n",
       "dtype: int64"
      ]
     },
     "execution_count": 14,
     "metadata": {},
     "output_type": "execute_result"
    }
   ],
   "source": [
    "# Пропущенные значения не обнаружены\n",
    "\n",
    "df_groups_add.isna().sum()"
   ]
  },
  {
   "cell_type": "code",
   "execution_count": 15,
   "metadata": {},
   "outputs": [
    {
     "data": {
      "text/plain": [
       "id     92\n",
       "grp     2\n",
       "dtype: int64"
      ]
     },
     "execution_count": 15,
     "metadata": {},
     "output_type": "execute_result"
    }
   ],
   "source": [
    "# Список пользоватателей полностью уникален\n",
    "\n",
    "df_groups_add.nunique()"
   ]
  },
  {
   "cell_type": "code",
   "execution_count": 16,
   "metadata": {},
   "outputs": [
    {
     "data": {
      "text/plain": [
       "B    70\n",
       "A    22\n",
       "Name: grp, dtype: int64"
      ]
     },
     "execution_count": 16,
     "metadata": {},
     "output_type": "execute_result"
    }
   ],
   "source": [
    "# Количество пользователей в группах\n",
    "\n",
    "df_groups_add.grp.value_counts()"
   ]
  },
  {
   "cell_type": "code",
   "execution_count": 17,
   "metadata": {},
   "outputs": [
    {
     "name": "stdout",
     "output_type": "stream",
     "text": [
      "<class 'pandas.core.frame.DataFrame'>\n",
      "RangeIndex: 74484 entries, 0 to 74483\n",
      "Data columns (total 2 columns):\n",
      " #   Column  Non-Null Count  Dtype \n",
      "---  ------  --------------  ----- \n",
      " 0   id      74484 non-null  int64 \n",
      " 1   grp     74484 non-null  object\n",
      "dtypes: int64(1), object(1)"
     ]
    }
   ],
   "source": [
    "# Основная информация и типы данных\n",
    "\n",
    "df_groups.info(memory_usage=False)"
   ]
  },
  {
   "cell_type": "markdown",
   "metadata": {},
   "source": [
    "### в) Пользователи - участники тестирования (df_active_studs)"
   ]
  },
  {
   "cell_type": "code",
   "execution_count": 18,
   "metadata": {},
   "outputs": [
    {
     "data": {
      "text/html": [
       "<div>\n",
       "<style scoped>\n",
       "    .dataframe tbody tr th:only-of-type {\n",
       "        vertical-align: middle;\n",
       "    }\n",
       "\n",
       "    .dataframe tbody tr th {\n",
       "        vertical-align: top;\n",
       "    }\n",
       "\n",
       "    .dataframe thead th {\n",
       "        text-align: right;\n",
       "    }\n",
       "</style>\n",
       "<table border=\"1\" class=\"dataframe\">\n",
       "  <thead>\n",
       "    <tr style=\"text-align: right;\">\n",
       "      <th></th>\n",
       "      <th>student_id</th>\n",
       "    </tr>\n",
       "  </thead>\n",
       "  <tbody>\n",
       "    <tr>\n",
       "      <th>0</th>\n",
       "      <td>581585</td>\n",
       "    </tr>\n",
       "    <tr>\n",
       "      <th>1</th>\n",
       "      <td>5723133</td>\n",
       "    </tr>\n",
       "    <tr>\n",
       "      <th>2</th>\n",
       "      <td>3276743</td>\n",
       "    </tr>\n",
       "    <tr>\n",
       "      <th>3</th>\n",
       "      <td>4238589</td>\n",
       "    </tr>\n",
       "    <tr>\n",
       "      <th>4</th>\n",
       "      <td>4475369</td>\n",
       "    </tr>\n",
       "  </tbody>\n",
       "</table>\n",
       "</div>"
      ],
      "text/plain": [
       "   student_id\n",
       "0      581585\n",
       "1     5723133\n",
       "2     3276743\n",
       "3     4238589\n",
       "4     4475369"
      ]
     },
     "execution_count": 18,
     "metadata": {},
     "output_type": "execute_result"
    }
   ],
   "source": [
    "df_active_studs = load_dataset(pb_keys['df_active_studs'], delimeter=';')\n",
    "df_active_studs.head()"
   ]
  },
  {
   "cell_type": "code",
   "execution_count": 19,
   "metadata": {},
   "outputs": [
    {
     "data": {
      "text/plain": [
       "(8341, 1)"
      ]
     },
     "execution_count": 19,
     "metadata": {},
     "output_type": "execute_result"
    }
   ],
   "source": [
    "# Размер df\n",
    "\n",
    "df_active_studs.shape"
   ]
  },
  {
   "cell_type": "code",
   "execution_count": 20,
   "metadata": {},
   "outputs": [
    {
     "data": {
      "text/plain": [
       "student_id    0\n",
       "dtype: int64"
      ]
     },
     "execution_count": 20,
     "metadata": {},
     "output_type": "execute_result"
    }
   ],
   "source": [
    "# Пропущенные значения не обнаружены\n",
    "\n",
    "df_active_studs.isna().sum()"
   ]
  },
  {
   "cell_type": "code",
   "execution_count": 21,
   "metadata": {},
   "outputs": [
    {
     "data": {
      "text/plain": [
       "student_id    8341\n",
       "dtype: int64"
      ]
     },
     "execution_count": 21,
     "metadata": {},
     "output_type": "execute_result"
    }
   ],
   "source": [
    "# Список пользоватателей полностью уникален\n",
    "\n",
    "df_active_studs.nunique()"
   ]
  },
  {
   "cell_type": "code",
   "execution_count": 22,
   "metadata": {},
   "outputs": [
    {
     "name": "stdout",
     "output_type": "stream",
     "text": [
      "<class 'pandas.core.frame.DataFrame'>\n",
      "RangeIndex: 8341 entries, 0 to 8340\n",
      "Data columns (total 1 columns):\n",
      " #   Column      Non-Null Count  Dtype\n",
      "---  ------      --------------  -----\n",
      " 0   student_id  8341 non-null   int64\n",
      "dtypes: int64(1)"
     ]
    }
   ],
   "source": [
    "# Основная информация и типы данных\n",
    "\n",
    "df_active_studs.info(memory_usage=False)"
   ]
  },
  {
   "cell_type": "markdown",
   "metadata": {},
   "source": [
    "### г) Расходы пользователей - участников тестирования (df_checks)"
   ]
  },
  {
   "cell_type": "code",
   "execution_count": 23,
   "metadata": {},
   "outputs": [
    {
     "data": {
      "text/html": [
       "<div>\n",
       "<style scoped>\n",
       "    .dataframe tbody tr th:only-of-type {\n",
       "        vertical-align: middle;\n",
       "    }\n",
       "\n",
       "    .dataframe tbody tr th {\n",
       "        vertical-align: top;\n",
       "    }\n",
       "\n",
       "    .dataframe thead th {\n",
       "        text-align: right;\n",
       "    }\n",
       "</style>\n",
       "<table border=\"1\" class=\"dataframe\">\n",
       "  <thead>\n",
       "    <tr style=\"text-align: right;\">\n",
       "      <th></th>\n",
       "      <th>student_id</th>\n",
       "      <th>rev</th>\n",
       "    </tr>\n",
       "  </thead>\n",
       "  <tbody>\n",
       "    <tr>\n",
       "      <th>0</th>\n",
       "      <td>1627</td>\n",
       "      <td>990.0</td>\n",
       "    </tr>\n",
       "    <tr>\n",
       "      <th>1</th>\n",
       "      <td>3185</td>\n",
       "      <td>690.0</td>\n",
       "    </tr>\n",
       "    <tr>\n",
       "      <th>2</th>\n",
       "      <td>25973</td>\n",
       "      <td>690.0</td>\n",
       "    </tr>\n",
       "    <tr>\n",
       "      <th>3</th>\n",
       "      <td>26280</td>\n",
       "      <td>690.0</td>\n",
       "    </tr>\n",
       "    <tr>\n",
       "      <th>4</th>\n",
       "      <td>100300</td>\n",
       "      <td>990.0</td>\n",
       "    </tr>\n",
       "  </tbody>\n",
       "</table>\n",
       "</div>"
      ],
      "text/plain": [
       "   student_id    rev\n",
       "0        1627  990.0\n",
       "1        3185  690.0\n",
       "2       25973  690.0\n",
       "3       26280  690.0\n",
       "4      100300  990.0"
      ]
     },
     "execution_count": 23,
     "metadata": {},
     "output_type": "execute_result"
    }
   ],
   "source": [
    "df_checks = load_dataset(pb_keys['df_checks'], delimeter=';')\n",
    "df_checks.head()"
   ]
  },
  {
   "cell_type": "code",
   "execution_count": 24,
   "metadata": {},
   "outputs": [
    {
     "data": {
      "text/plain": [
       "(541, 2)"
      ]
     },
     "execution_count": 24,
     "metadata": {},
     "output_type": "execute_result"
    }
   ],
   "source": [
    "# Размер df\n",
    "\n",
    "df_checks.shape"
   ]
  },
  {
   "cell_type": "code",
   "execution_count": 25,
   "metadata": {},
   "outputs": [
    {
     "data": {
      "text/plain": [
       "student_id    0\n",
       "rev           0\n",
       "dtype: int64"
      ]
     },
     "execution_count": 25,
     "metadata": {},
     "output_type": "execute_result"
    }
   ],
   "source": [
    "# Пропущенные значения не обнаружены\n",
    "\n",
    "df_checks.isna().sum()"
   ]
  },
  {
   "cell_type": "code",
   "execution_count": 26,
   "metadata": {},
   "outputs": [
    {
     "data": {
      "text/plain": [
       "student_id    541\n",
       "rev            39\n",
       "dtype: int64"
      ]
     },
     "execution_count": 26,
     "metadata": {},
     "output_type": "execute_result"
    }
   ],
   "source": [
    "# Список пользоватателей полностью уникален\n",
    "\n",
    "df_checks.nunique()"
   ]
  },
  {
   "cell_type": "code",
   "execution_count": 27,
   "metadata": {},
   "outputs": [
    {
     "name": "stdout",
     "output_type": "stream",
     "text": [
      "<class 'pandas.core.frame.DataFrame'>\n",
      "RangeIndex: 541 entries, 0 to 540\n",
      "Data columns (total 2 columns):\n",
      " #   Column      Non-Null Count  Dtype  \n",
      "---  ------      --------------  -----  \n",
      " 0   student_id  541 non-null    int64  \n",
      " 1   rev         541 non-null    float64\n",
      "dtypes: float64(1), int64(1)"
     ]
    }
   ],
   "source": [
    "# Основная информация и типы данных\n",
    "\n",
    "df_checks.info(memory_usage=False)"
   ]
  },
  {
   "cell_type": "markdown",
   "metadata": {},
   "source": [
    "## 1.2 Предподготовка данных для анализа\n",
    "\n",
    "В данном разделе проверяются возможные аномалии и отбираются необходимые данные для анализа результатов A/B - тестирования"
   ]
  },
  {
   "cell_type": "code",
   "execution_count": 28,
   "metadata": {},
   "outputs": [
    {
     "data": {
      "text/html": [
       "<div>\n",
       "<style scoped>\n",
       "    .dataframe tbody tr th:only-of-type {\n",
       "        vertical-align: middle;\n",
       "    }\n",
       "\n",
       "    .dataframe tbody tr th {\n",
       "        vertical-align: top;\n",
       "    }\n",
       "\n",
       "    .dataframe thead th {\n",
       "        text-align: right;\n",
       "    }\n",
       "</style>\n",
       "<table border=\"1\" class=\"dataframe\">\n",
       "  <thead>\n",
       "    <tr style=\"text-align: right;\">\n",
       "      <th></th>\n",
       "      <th>id</th>\n",
       "      <th>grp</th>\n",
       "    </tr>\n",
       "  </thead>\n",
       "  <tbody>\n",
       "    <tr>\n",
       "      <th>0</th>\n",
       "      <td>1489</td>\n",
       "      <td>B</td>\n",
       "    </tr>\n",
       "    <tr>\n",
       "      <th>1</th>\n",
       "      <td>1627</td>\n",
       "      <td>A</td>\n",
       "    </tr>\n",
       "    <tr>\n",
       "      <th>2</th>\n",
       "      <td>1768</td>\n",
       "      <td>B</td>\n",
       "    </tr>\n",
       "    <tr>\n",
       "      <th>3</th>\n",
       "      <td>1783</td>\n",
       "      <td>B</td>\n",
       "    </tr>\n",
       "    <tr>\n",
       "      <th>4</th>\n",
       "      <td>1794</td>\n",
       "      <td>A</td>\n",
       "    </tr>\n",
       "  </tbody>\n",
       "</table>\n",
       "</div>"
      ],
      "text/plain": [
       "     id grp\n",
       "0  1489   B\n",
       "1  1627   A\n",
       "2  1768   B\n",
       "3  1783   B\n",
       "4  1794   A"
      ]
     },
     "execution_count": 28,
     "metadata": {},
     "output_type": "execute_result"
    }
   ],
   "source": [
    "# Информация о принадлежности всех пользователей к группам\n",
    "\n",
    "df_all_groups = pd.concat([df_groups, df_groups_add], ignore_index=True)\n",
    "df_all_groups.head()"
   ]
  },
  {
   "cell_type": "markdown",
   "metadata": {},
   "source": [
    "**Проверим уникальность пользователей df_groups и df_groups_add относительно друг друга**"
   ]
  },
  {
   "cell_type": "code",
   "execution_count": 29,
   "metadata": {
    "scrolled": true
   },
   "outputs": [
    {
     "name": "stdout",
     "output_type": "stream",
     "text": [
      "Списки пользователей уникальны относительно друг друга = True\n"
     ]
    }
   ],
   "source": [
    "result_check = df_all_groups.id.nunique() == df_groups.shape[0] + df_groups_add.shape[0]\n",
    "\n",
    "print(f'Списки пользователей уникальны относительно друг друга = {result_check}')"
   ]
  },
  {
   "cell_type": "markdown",
   "metadata": {},
   "source": [
    "**Проверим есть ли пользователи участники эксперимента, которых нет в общем списке df_all_groups**"
   ]
  },
  {
   "cell_type": "code",
   "execution_count": 30,
   "metadata": {
    "scrolled": true
   },
   "outputs": [
    {
     "name": "stdout",
     "output_type": "stream",
     "text": [
      "Все пользователи, принимавшие участие в эксперименте, есть в общем списке df_all_groups = True\n"
     ]
    }
   ],
   "source": [
    "result_check = df_active_studs.merge(df_all_groups, left_on='student_id', right_on='id', how='left').id.isna().sum() == 0\n",
    "\n",
    "print(f'Все пользователи, принимавшие участие в эксперименте, есть в общем списке df_all_groups = {result_check}')"
   ]
  },
  {
   "cell_type": "markdown",
   "metadata": {},
   "source": [
    "**Проверим есть ли пользователи совершившие оплату, но не являющиееся участниками эксперимента**"
   ]
  },
  {
   "cell_type": "code",
   "execution_count": 31,
   "metadata": {},
   "outputs": [
    {
     "data": {
      "text/plain": [
       "66235"
      ]
     },
     "execution_count": 31,
     "metadata": {},
     "output_type": "execute_result"
    }
   ],
   "source": [
    "# Пользователи не участвующие в эксперименте\n",
    "\n",
    "not_active_users = df_all_groups[~df_all_groups.id.isin(df_active_studs.student_id)]\n",
    "not_active_users.shape[0]"
   ]
  },
  {
   "cell_type": "code",
   "execution_count": 32,
   "metadata": {
    "scrolled": true
   },
   "outputs": [
    {
     "data": {
      "text/plain": [
       "B    120\n",
       "A     29\n",
       "Name: grp, dtype: int64"
      ]
     },
     "execution_count": 32,
     "metadata": {},
     "output_type": "execute_result"
    }
   ],
   "source": [
    "by_grp = not_active_users[not_active_users.id.isin(df_checks.student_id)].grp.value_counts()\n",
    "by_grp"
   ]
  },
  {
   "cell_type": "code",
   "execution_count": 33,
   "metadata": {},
   "outputs": [
    {
     "name": "stdout",
     "output_type": "stream",
     "text": [
      "Пользователей совершивших оплату, но не являющихся участниками эксперимента = 149 человек\n",
      "\n",
      "В группе A (контрольной): 29 человек\n",
      "В группе B (тестовой):    120 человек\n"
     ]
    }
   ],
   "source": [
    "result_check = not_active_users[not_active_users.id.isin(df_checks.student_id)].shape[0]\n",
    "\n",
    "print(f'Пользователей совершивших оплату, но не являющихся участниками эксперимента = {result_check} человек')\n",
    "print(f\"\\nВ группе A (контрольной): {by_grp['A']} человек\")\n",
    "print(f\"В группе B (тестовой):    {by_grp['B']} человек\")"
   ]
  },
  {
   "cell_type": "markdown",
   "metadata": {},
   "source": [
    "**Примечание:** \n",
    "- Списки пользователей `df_groups` и `df_groups_add` уникальны относительно друг друга (аномалий нет);\n",
    "- Все пользователи `df_active_studs`, принимавшие участие в эксперименте, есть в общем списке `df_all_groups` (аномалий нет);\n",
    "- Обнаружено 149 пользователей, которые отнесены к группам и совершали оплату в срок проведения эксперимента, но отсутствуют в списке участников эксперимента `df_active_studs`. Информацию по этим пользователям надо уточнять, тут возможны различные сценарии: от ошибки в дизайне АБ-теста до возможности оплаты без использования исследуемого функционала. На данный момент этих пользователей в анализе учитывать не будем."
   ]
  },
  {
   "cell_type": "markdown",
   "metadata": {},
   "source": [
    "**Сформируем датафрейм с необходимыми данными для анализа**"
   ]
  },
  {
   "cell_type": "code",
   "execution_count": 34,
   "metadata": {},
   "outputs": [
    {
     "data": {
      "text/html": [
       "<div>\n",
       "<style scoped>\n",
       "    .dataframe tbody tr th:only-of-type {\n",
       "        vertical-align: middle;\n",
       "    }\n",
       "\n",
       "    .dataframe tbody tr th {\n",
       "        vertical-align: top;\n",
       "    }\n",
       "\n",
       "    .dataframe thead th {\n",
       "        text-align: right;\n",
       "    }\n",
       "</style>\n",
       "<table border=\"1\" class=\"dataframe\">\n",
       "  <thead>\n",
       "    <tr style=\"text-align: right;\">\n",
       "      <th></th>\n",
       "      <th>id</th>\n",
       "      <th>grp</th>\n",
       "      <th>student_id</th>\n",
       "    </tr>\n",
       "  </thead>\n",
       "  <tbody>\n",
       "    <tr>\n",
       "      <th>0</th>\n",
       "      <td>1627</td>\n",
       "      <td>A</td>\n",
       "      <td>1627</td>\n",
       "    </tr>\n",
       "    <tr>\n",
       "      <th>1</th>\n",
       "      <td>2085</td>\n",
       "      <td>B</td>\n",
       "      <td>2085</td>\n",
       "    </tr>\n",
       "    <tr>\n",
       "      <th>2</th>\n",
       "      <td>2215</td>\n",
       "      <td>B</td>\n",
       "      <td>2215</td>\n",
       "    </tr>\n",
       "    <tr>\n",
       "      <th>3</th>\n",
       "      <td>3391</td>\n",
       "      <td>A</td>\n",
       "      <td>3391</td>\n",
       "    </tr>\n",
       "    <tr>\n",
       "      <th>4</th>\n",
       "      <td>3401</td>\n",
       "      <td>B</td>\n",
       "      <td>3401</td>\n",
       "    </tr>\n",
       "  </tbody>\n",
       "</table>\n",
       "</div>"
      ],
      "text/plain": [
       "     id grp  student_id\n",
       "0  1627   A        1627\n",
       "1  2085   B        2085\n",
       "2  2215   B        2215\n",
       "3  3391   A        3391\n",
       "4  3401   B        3401"
      ]
     },
     "execution_count": 34,
     "metadata": {},
     "output_type": "execute_result"
    }
   ],
   "source": [
    "# Полная информация о всех участниках эксперимента \n",
    "\n",
    "df_all_groups = df_all_groups.merge(df_active_studs, left_on='id', right_on='student_id')\n",
    "df_all_groups.head()"
   ]
  },
  {
   "cell_type": "code",
   "execution_count": 35,
   "metadata": {},
   "outputs": [
    {
     "data": {
      "text/html": [
       "<div>\n",
       "<style scoped>\n",
       "    .dataframe tbody tr th:only-of-type {\n",
       "        vertical-align: middle;\n",
       "    }\n",
       "\n",
       "    .dataframe tbody tr th {\n",
       "        vertical-align: top;\n",
       "    }\n",
       "\n",
       "    .dataframe thead th {\n",
       "        text-align: right;\n",
       "    }\n",
       "</style>\n",
       "<table border=\"1\" class=\"dataframe\">\n",
       "  <thead>\n",
       "    <tr style=\"text-align: right;\">\n",
       "      <th></th>\n",
       "      <th>id</th>\n",
       "      <th>grp</th>\n",
       "      <th>rev</th>\n",
       "    </tr>\n",
       "  </thead>\n",
       "  <tbody>\n",
       "    <tr>\n",
       "      <th>0</th>\n",
       "      <td>1627</td>\n",
       "      <td>A</td>\n",
       "      <td>990.0</td>\n",
       "    </tr>\n",
       "    <tr>\n",
       "      <th>1</th>\n",
       "      <td>2085</td>\n",
       "      <td>B</td>\n",
       "      <td>NaN</td>\n",
       "    </tr>\n",
       "    <tr>\n",
       "      <th>2</th>\n",
       "      <td>2215</td>\n",
       "      <td>B</td>\n",
       "      <td>NaN</td>\n",
       "    </tr>\n",
       "    <tr>\n",
       "      <th>3</th>\n",
       "      <td>3391</td>\n",
       "      <td>A</td>\n",
       "      <td>NaN</td>\n",
       "    </tr>\n",
       "    <tr>\n",
       "      <th>4</th>\n",
       "      <td>3401</td>\n",
       "      <td>B</td>\n",
       "      <td>NaN</td>\n",
       "    </tr>\n",
       "  </tbody>\n",
       "</table>\n",
       "</div>"
      ],
      "text/plain": [
       "     id grp    rev\n",
       "0  1627   A  990.0\n",
       "1  2085   B    NaN\n",
       "2  2215   B    NaN\n",
       "3  3391   A    NaN\n",
       "4  3401   B    NaN"
      ]
     },
     "execution_count": 35,
     "metadata": {},
     "output_type": "execute_result"
    }
   ],
   "source": [
    "# Полная информация о всех участниках эксперимента с размером их расходов\n",
    "\n",
    "df_info = df_all_groups.merge(df_checks, on='student_id', how='left').drop('student_id', axis=1)\n",
    "df_info.head()"
   ]
  },
  {
   "cell_type": "code",
   "execution_count": 36,
   "metadata": {},
   "outputs": [
    {
     "data": {
      "text/plain": [
       "B    6803\n",
       "A    1538\n",
       "Name: grp, dtype: int64"
      ]
     },
     "execution_count": 36,
     "metadata": {},
     "output_type": "execute_result"
    }
   ],
   "source": [
    "# Количество пользователей в группах\n",
    "\n",
    "df_info.grp.value_counts()"
   ]
  },
  {
   "cell_type": "code",
   "execution_count": 37,
   "metadata": {},
   "outputs": [
    {
     "data": {
      "text/html": [
       "<div>\n",
       "<style scoped>\n",
       "    .dataframe tbody tr th:only-of-type {\n",
       "        vertical-align: middle;\n",
       "    }\n",
       "\n",
       "    .dataframe tbody tr th {\n",
       "        vertical-align: top;\n",
       "    }\n",
       "\n",
       "    .dataframe thead th {\n",
       "        text-align: right;\n",
       "    }\n",
       "</style>\n",
       "<table border=\"1\" class=\"dataframe\">\n",
       "  <thead>\n",
       "    <tr style=\"text-align: right;\">\n",
       "      <th></th>\n",
       "      <th>id</th>\n",
       "      <th>grp</th>\n",
       "      <th>rev</th>\n",
       "      <th>payment</th>\n",
       "    </tr>\n",
       "  </thead>\n",
       "  <tbody>\n",
       "    <tr>\n",
       "      <th>0</th>\n",
       "      <td>1627</td>\n",
       "      <td>A</td>\n",
       "      <td>990.0</td>\n",
       "      <td>1</td>\n",
       "    </tr>\n",
       "    <tr>\n",
       "      <th>1</th>\n",
       "      <td>2085</td>\n",
       "      <td>B</td>\n",
       "      <td>NaN</td>\n",
       "      <td>0</td>\n",
       "    </tr>\n",
       "    <tr>\n",
       "      <th>2</th>\n",
       "      <td>2215</td>\n",
       "      <td>B</td>\n",
       "      <td>NaN</td>\n",
       "      <td>0</td>\n",
       "    </tr>\n",
       "    <tr>\n",
       "      <th>3</th>\n",
       "      <td>3391</td>\n",
       "      <td>A</td>\n",
       "      <td>NaN</td>\n",
       "      <td>0</td>\n",
       "    </tr>\n",
       "    <tr>\n",
       "      <th>4</th>\n",
       "      <td>3401</td>\n",
       "      <td>B</td>\n",
       "      <td>NaN</td>\n",
       "      <td>0</td>\n",
       "    </tr>\n",
       "  </tbody>\n",
       "</table>\n",
       "</div>"
      ],
      "text/plain": [
       "     id grp    rev  payment\n",
       "0  1627   A  990.0        1\n",
       "1  2085   B    NaN        0\n",
       "2  2215   B    NaN        0\n",
       "3  3391   A    NaN        0\n",
       "4  3401   B    NaN        0"
      ]
     },
     "execution_count": 37,
     "metadata": {},
     "output_type": "execute_result"
    }
   ],
   "source": [
    "# Введем категориальную переменную\n",
    "\n",
    "# 0 - пользовататель не совершил оплату услуг на сайте в период эксперимента\n",
    "# 1 - пользователь совершил оплату услуг на сайте\n",
    "\n",
    "df_info['payment'] = np.where(df_info.rev.isna(), 0, 1)\n",
    "df_info.head()"
   ]
  },
  {
   "cell_type": "markdown",
   "metadata": {},
   "source": [
    "# <u> Анализ результатов A/B - тестирования<u> \n",
    "\n",
    "### 1. Конверсия посещений сайта в оплату услуги\n",
    "\n",
    "Предположим, что новая механика на сайте значительно повышает удобство и скорость процедуры оплаты и теперь больше пользователей совершают целевое действие в виде оплаты услуги. У нас имеются две категориальные переменные, тогда для проверки этой гипотезы → **воспользуемся критерием хи-квадрат**\n",
    "\n",
    "- $H_0$: конверсия в оплату в группах равна\n",
    "- $H_1$: конверсия в оплату в группах различается"
   ]
  },
  {
   "cell_type": "code",
   "execution_count": 38,
   "metadata": {},
   "outputs": [
    {
     "data": {
      "text/html": [
       "<div>\n",
       "<style scoped>\n",
       "    .dataframe tbody tr th:only-of-type {\n",
       "        vertical-align: middle;\n",
       "    }\n",
       "\n",
       "    .dataframe tbody tr th {\n",
       "        vertical-align: top;\n",
       "    }\n",
       "\n",
       "    .dataframe thead th {\n",
       "        text-align: right;\n",
       "    }\n",
       "</style>\n",
       "<table border=\"1\" class=\"dataframe\">\n",
       "  <thead>\n",
       "    <tr style=\"text-align: right;\">\n",
       "      <th>payment</th>\n",
       "      <th>0</th>\n",
       "      <th>1</th>\n",
       "    </tr>\n",
       "    <tr>\n",
       "      <th>grp</th>\n",
       "      <th></th>\n",
       "      <th></th>\n",
       "    </tr>\n",
       "  </thead>\n",
       "  <tbody>\n",
       "    <tr>\n",
       "      <th>A</th>\n",
       "      <td>1460</td>\n",
       "      <td>78</td>\n",
       "    </tr>\n",
       "    <tr>\n",
       "      <th>B</th>\n",
       "      <td>6489</td>\n",
       "      <td>314</td>\n",
       "    </tr>\n",
       "  </tbody>\n",
       "</table>\n",
       "</div>"
      ],
      "text/plain": [
       "payment     0    1\n",
       "grp               \n",
       "A        1460   78\n",
       "B        6489  314"
      ]
     },
     "execution_count": 38,
     "metadata": {},
     "output_type": "execute_result"
    }
   ],
   "source": [
    "# Создадим таблицу сопряженности \n",
    "\n",
    "pd.crosstab(df_info.grp, df_info.payment)"
   ]
  },
  {
   "cell_type": "code",
   "execution_count": 39,
   "metadata": {},
   "outputs": [],
   "source": [
    "# Хи-квадрат тест независимости переменных в таблице сопряженности (без поправки Йетса)\n",
    "\n",
    "stat, p, dof, expected  = st.chi2_contingency(pd.crosstab(df_info.grp, df_info.payment), correction=False)"
   ]
  },
  {
   "cell_type": "markdown",
   "metadata": {},
   "source": [
    "**Примечание:** поправка Йетса используется для сравнения небольших выборок с ожидаемой частотой ниже 5."
   ]
  },
  {
   "cell_type": "code",
   "execution_count": 40,
   "metadata": {},
   "outputs": [
    {
     "name": "stdout",
     "output_type": "stream",
     "text": [
      "Статистика:\t 0.582\n",
      "p-value:\t 0.445\n"
     ]
    }
   ],
   "source": [
    "# Статистика и p-value (> 0.05)\n",
    "\n",
    "print('Статистика:\\t', round(stat, 3))\n",
    "print('p-value:\\t', round(p, 3))"
   ]
  },
  {
   "cell_type": "code",
   "execution_count": 41,
   "metadata": {},
   "outputs": [],
   "source": [
    "# Конверсия в оплату по группам\n",
    "\n",
    "CR_groups = pd.crosstab(df_info.grp, df_info.payment, normalize='index') \\\n",
    "                        .rename(columns={1:'CR'}) \\\n",
    "                        .mul(100)[['CR']] \\\n",
    "                        .reset_index()"
   ]
  },
  {
   "cell_type": "code",
   "execution_count": 42,
   "metadata": {},
   "outputs": [
    {
     "data": {
      "image/png": "[encoded data removed]",
      "text/plain": [
       "<Figure size 576x432 with 1 Axes>"
      ]
     },
     "metadata": {},
     "output_type": "display_data"
    }
   ],
   "source": [
    "# Визуализация конверсии\n",
    "\n",
    "plt.figure(figsize=(8, 6))\n",
    "sns.set(font_scale=1.6, style=\"whitegrid\")\n",
    "ax = sns.barplot(data=CR_groups, x='grp', y='CR')\n",
    "ax.set(xlabel='Group', ylabel='')\n",
    "ax.set_title('Conversion rate (CR) ', pad=30, fontsize=20)\n",
    "\n",
    "for p in ax.patches:\n",
    "    percentage = '{:.2f}%'.format(p.get_height())\n",
    "    x = p.get_x() + p.get_width() / 2\n",
    "    y = p.get_height()\n",
    "    ax.annotate(percentage, (x, y), ha='center', va='bottom', fontsize=15)\n",
    "sns.despine()\n",
    "plt.show()"
   ]
  },
  {
   "cell_type": "markdown",
   "metadata": {},
   "source": [
    "### Вывод №1:\n",
    "\n",
    "Результаты теста не позволяют нам отклонить нулевую гипотезу (H0), следовательно, мы не можем утверждать, что новая механика оплаты услуг на сайте приводит к изменению конверсии в оплату среди посетителей."
   ]
  },
  {
   "cell_type": "markdown",
   "metadata": {},
   "source": [
    "### 2. Средний доход с платящего пользователя\n",
    "\n",
    "Проверим, повлияло ли изменение механики оплаты на доход бизнеса с платящих пользователей. Будем предполагать, что новая механика может мотивировать некоторых пользователей оплачивать больше образовательных услуг с помощью данного сайта, а следовательно увеличится и  доход бизнеса."
   ]
  },
  {
   "cell_type": "code",
   "execution_count": 43,
   "metadata": {},
   "outputs": [],
   "source": [
    "# Оставим только платящих пользователей\n",
    "\n",
    "df_info = df_info.query('payment == 1')"
   ]
  },
  {
   "cell_type": "code",
   "execution_count": 44,
   "metadata": {},
   "outputs": [
    {
     "data": {
      "text/plain": [
       "B    314\n",
       "A     78\n",
       "Name: grp, dtype: int64"
      ]
     },
     "execution_count": 44,
     "metadata": {},
     "output_type": "execute_result"
    }
   ],
   "source": [
    "# Количество платящих пользователей в группах\n",
    "\n",
    "df_info.grp.value_counts()"
   ]
  },
  {
   "cell_type": "code",
   "execution_count": 45,
   "metadata": {
    "scrolled": false
   },
   "outputs": [
    {
     "data": {
      "image/png": "[encoded data removed]",
      "text/plain": [
       "<Figure size 843.665x432 with 2 Axes>"
      ]
     },
     "metadata": {},
     "output_type": "display_data"
    }
   ],
   "source": [
    "# Построим распредление дохода с пользователей\n",
    "\n",
    "sns.set(font_scale=1.4, style=\"darkgrid\")\n",
    "ax = sns.displot(df_info.fillna(0), height=6, aspect=0.9, x='rev', hue='grp', col='grp', kde=True)\n",
    "ax.fig.suptitle('Distribution of Revenue', fontsize=20, y=1.05)\n",
    "plt.show()"
   ]
  },
  {
   "cell_type": "markdown",
   "metadata": {},
   "source": [
    "**Проверим распределения на гомогенность дисперсий и нормальность**"
   ]
  },
  {
   "cell_type": "code",
   "execution_count": 46,
   "metadata": {},
   "outputs": [
    {
     "name": "stdout",
     "output_type": "stream",
     "text": [
      "В рассмотренных распределениях дисперсии гомогенны = True\n"
     ]
    }
   ],
   "source": [
    "# Проверка гомогенности дисперсий по критерию Левена\n",
    "\n",
    "stat, p_val = st.levene(df_info.query(\"grp == 'A'\").rev, \\\n",
    "                        df_info.query(\"grp == 'B'\").rev)\n",
    "print(f'В рассмотренных распределениях дисперсии гомогенны = {p_val > 0.05}')"
   ]
  },
  {
   "cell_type": "code",
   "execution_count": 47,
   "metadata": {
    "scrolled": false
   },
   "outputs": [
    {
     "data": {
      "image/png": "[encoded data removed]",
      "text/plain": [
       "<Figure size 360x288 with 1 Axes>"
      ]
     },
     "metadata": {},
     "output_type": "display_data"
    },
    {
     "data": {
      "image/png": "[encoded data removed]",
      "text/plain": [
       "<Figure size 360x288 with 1 Axes>"
      ]
     },
     "metadata": {},
     "output_type": "display_data"
    }
   ],
   "source": [
    "# Проверка нормальности c помощью qqplot \n",
    "\n",
    "sns.set(font_scale=1.4, style=\"white\")\n",
    "pg.qqplot(df_info.query(\"grp == 'A'\").rev)\n",
    "pg.qqplot(df_info.query(\"grp == 'B'\").rev)\n",
    "plt.show()"
   ]
  },
  {
   "cell_type": "markdown",
   "metadata": {},
   "source": [
    "**Примечание:** графики Q-Qplot имеют большие хвосты слева и справа, изломы и разряженные значения, следовательно, данные распределения не подчиняются нормальному закону."
   ]
  },
  {
   "cell_type": "code",
   "execution_count": 48,
   "metadata": {},
   "outputs": [
    {
     "name": "stdout",
     "output_type": "stream",
     "text": [
      "Группа А (control): pvalue = 2.532e-07\n",
      "Группа B (test):    pvalue = 0.03345\n",
      "\n",
      "Группа А (control): Распределение нормальное = False\n",
      "Группа B (test):    Распределение нормальное = False\n"
     ]
    }
   ],
   "source": [
    "# Проверка нормальности распределения (тест Д'Агостино-Пирсона)\n",
    "\n",
    "stat_A, p_val_A = st.normaltest(df_info.query(\"grp == 'A'\").rev)\n",
    "stat_B, p_val_B = st.normaltest(df_info.query(\"grp == 'B'\").rev)\n",
    "\n",
    "print(f'Группа А (control): pvalue = {round(p_val_A, 10)}')\n",
    "print(f'Группа B (test):    pvalue = {round(p_val_B, 5)}')\n",
    "\n",
    "print(f'\\nГруппа А (control): Распределение нормальное = {p_val_A > 0.05}')\n",
    "print(f'Группа B (test):    Распределение нормальное = {p_val_B > 0.05}')"
   ]
  },
  {
   "cell_type": "markdown",
   "metadata": {},
   "source": [
    "**Формулировка гипотез и выбор теста**\n",
    "\n",
    "Для исследуемой метрики параметрические предположения не выполняются: дисперсии гомогенны, но распределения не подчиняются нормальному закону, более того распределения ассиметричны и имеют выбросы. Стандартный T-test Стьюдента в таких случаях может быть не лучшим решением так как повышается возможная вероятность ошибки I рода, а непараметрические тесты, например Манна-Уитни, сложно интерпретируются и не применимы для сравнения средних в группах, по этой причине для сравнения средних значений дохода с платящего пользователя (ARPPU) будем применять другой статистический тест → **Bootstrap**.\n",
    "\n",
    "- $H_0$: в группах средний доход с платящего пользователя (ARPPU) равен\n",
    "- $H_1$: в группах средний доход с платящего пользователя (ARPPU) различается"
   ]
  },
  {
   "cell_type": "code",
   "execution_count": 49,
   "metadata": {},
   "outputs": [],
   "source": [
    "# Разбиваем доход пользователей по группам\n",
    "\n",
    "control_group = df_info.query(\"grp == 'A'\").rev\n",
    "test_group = df_info.query(\"grp == 'B'\").rev "
   ]
  },
  {
   "cell_type": "code",
   "execution_count": 50,
   "metadata": {},
   "outputs": [],
   "source": [
    "# Моделирование бутстрапа\n",
    "\n",
    "diff_ARPPU = []\n",
    "\n",
    "for i in range(10000):\n",
    "    sample_data_control = control_group.sample(frac=1, replace=True)\n",
    "    sample_ARPPU_control = sample_data_control.mean()\n",
    "    \n",
    "    sample_data_test = test_group.sample(frac=1, replace=True)\n",
    "    sample_ARPPU_test = sample_data_test.mean()\n",
    "    \n",
    "    sample_ARPPU_diff = sample_ARPPU_test - sample_ARPPU_control\n",
    "    diff_ARPPU.append(sample_ARPPU_diff)"
   ]
  },
  {
   "cell_type": "code",
   "execution_count": 51,
   "metadata": {},
   "outputs": [
    {
     "data": {
      "text/plain": [
       "537.444"
      ]
     },
     "execution_count": 51,
     "metadata": {},
     "output_type": "execute_result"
    }
   ],
   "source": [
    "# Верхняя граница 95% доверительного интервала\n",
    "\n",
    "upper_bound = pd.Series(diff_ARPPU).quantile(0.975)\n",
    "upper_bound.round(3)"
   ]
  },
  {
   "cell_type": "code",
   "execution_count": 52,
   "metadata": {
    "scrolled": false
   },
   "outputs": [
    {
     "data": {
      "text/plain": [
       "94.327"
      ]
     },
     "execution_count": 52,
     "metadata": {},
     "output_type": "execute_result"
    }
   ],
   "source": [
    "# Нижняя граница 95% доверительного интервала\n",
    "\n",
    "lower_bound = pd.Series(diff_ARPPU).quantile(0.025)\n",
    "lower_bound.round(3)"
   ]
  },
  {
   "cell_type": "code",
   "execution_count": 53,
   "metadata": {},
   "outputs": [
    {
     "data": {
      "image/png": "[encoded data removed]",
      "text/plain": [
       "<Figure size 720x432 with 1 Axes>"
      ]
     },
     "metadata": {},
     "output_type": "display_data"
    }
   ],
   "source": [
    "# Визуализация бутстрап-распредления разностей ARPPU\n",
    "\n",
    "plt.figure(figsize=(10, 6))\n",
    "sns.set(font_scale=1.4, style=\"darkgrid\")\n",
    "n, bins, patches = plt.hist(diff_ARPPU, 50, facecolor='r', alpha=0.5)\n",
    "for i, patch in enumerate(patches):\n",
    "    if bins[i] >= lower_bound and bins[i+1] <= upper_bound:\n",
    "        patch.set_color('b')\n",
    "    elif bins[i] <= lower_bound < bins[i+1]:\n",
    "        patch.set_color('b')\n",
    "    elif bins[i] <= upper_bound < bins[i+1]:\n",
    "        patch.set_color('b')\n",
    "    \n",
    "plt.axvline(lower_bound, ymax = 0.8, color='blue', linestyle='dashed', linewidth=2, label='95% CI')\n",
    "plt.axvline(upper_bound, ymax = 0.8, color='blue', linestyle='dashed', linewidth=2)\n",
    "plt.title('Bootstrap-distribution diff ARPPU', pad=10, fontsize=20)\n",
    "plt.xlabel('diff ARPPU')\n",
    "plt.ylabel('Count')\n",
    "plt.legend()\n",
    "plt.show()"
   ]
  },
  {
   "cell_type": "code",
   "execution_count": 54,
   "metadata": {},
   "outputs": [],
   "source": [
    "# Средний доход с платящего пользователя по группам\n",
    "\n",
    "APPU_groups = df_info \\\n",
    "                .groupby('grp', as_index=False) \\\n",
    "                .agg({'rev': 'sum', 'id':'count'}) \\\n",
    "                .rename(columns={'rev':'sum_rev', 'id':'users'})\n",
    "\n",
    "APPU_groups['ARPPU'] = APPU_groups.sum_rev / APPU_groups.users"
   ]
  },
  {
   "cell_type": "code",
   "execution_count": 55,
   "metadata": {},
   "outputs": [
    {
     "data": {
      "image/png": "[encoded data removed]",
      "text/plain": [
       "<Figure size 576x432 with 1 Axes>"
      ]
     },
     "metadata": {},
     "output_type": "display_data"
    }
   ],
   "source": [
    "# Визуализация ARPPU\n",
    "\n",
    "plt.figure(figsize=(8, 6))\n",
    "sns.set(font_scale=1.4, style=\"whitegrid\")\n",
    "ax = sns.barplot(data=APPU_groups, x='grp', y='ARPPU')\n",
    "ax.set(xlabel='Group', ylabel='')\n",
    "ax.set_title('Average revenue per paying user (ARPPU)', pad=30, fontsize=20)\n",
    "\n",
    "for p in ax.patches:\n",
    "    percentage = '{:.1f}'.format(p.get_height())\n",
    "    x = p.get_x() + p.get_width() / 2\n",
    "    y = p.get_height()\n",
    "    ax.annotate(percentage, (x, y), ha='center', va='bottom', fontsize=15)\n",
    "sns.despine()\n",
    "plt.show()"
   ]
  },
  {
   "cell_type": "markdown",
   "metadata": {},
   "source": [
    "### Вывод №2:\n",
    "\n",
    "По результатам проведенного Bootstrap'а полученный доверительный интервал разности ARPPU между группами не включает в себя ноль, следовательно, целесообразно отвергнуть нулевую гипотезу и принять альтернативную (H1): **в группах средний доход с платящего пользователя (ARPPU) различается**. <br/> \n",
    "Тогда можем заключить, что при внедрении новой механики оплаты услуг пользователи в среднем начинают приносить бизнесу статистически значимо больший доход."
   ]
  },
  {
   "cell_type": "markdown",
   "metadata": {},
   "source": [
    "<!-- # <u> Задача 2. Автоматизация подгрузки данных и пересчета метрик<u>  -->\n",
    "    \n",
    "**Реализуем функцию, которая будет автоматически подгружать информацию из дополнительного файла groups_add.csv (заголовки могут отличаться) и на основании дополнительных параметров пересчитывать метрики.**"
   ]
  },
  {
   "cell_type": "code",
   "execution_count": 56,
   "metadata": {},
   "outputs": [],
   "source": [
    "def recalculate_metrics(pb_keys: dict) -> pd.DataFrame:\n",
    "    \n",
    "    # Загрузка данных\n",
    "    df_groups = load_dataset(pb_keys['df_groups'], delimeter=';')\n",
    "\n",
    "    df_groups_add = load_dataset(pb_keys['df_groups_add'], delimeter=',')\n",
    "    df_groups_add.rename(columns={df_groups_add.columns[0]:'id', df_groups_add.columns[1]:'grp'}, inplace=True)\n",
    "\n",
    "    df_active_studs = load_dataset(pb_keys['df_active_studs'], delimeter=';')\n",
    "    df_active_studs.rename(columns={df_active_studs.columns[0]:'id'}, inplace=True)\n",
    "\n",
    "    df_checks = load_dataset(pb_keys['df_checks'], delimeter=';')\n",
    "    df_checks.rename(columns={df_checks.columns[0]:'id'}, inplace=True)\n",
    "    \n",
    "    # Объединение данных\n",
    "    df_info = df_groups.merge(df_groups_add, how='outer', on=['id', 'grp']) \\\n",
    "                       .merge(df_active_studs, on='id') \\\n",
    "                       .merge(df_checks, how='left', on='id')\n",
    "    \n",
    "    # Пересчет метрик\n",
    "    metrics = pd.DataFrame(index=['A', 'B'])\n",
    "    metrics[ 'CR'  ] = df_info.groupby('grp').apply(lambda x: x.rev.count() / x.shape[0]).mul(100)\n",
    "    metrics['ARPPU'] = df_info.groupby('grp').apply(lambda x: x.rev.sum()  / x.rev.count())\n",
    "    metrics['ARPAU'] = df_info.groupby('grp').apply(lambda x: x.rev.sum() / x.shape[0])\n",
    "    \n",
    "    return metrics"
   ]
  },
  {
   "cell_type": "markdown",
   "metadata": {},
   "source": [
    "Теперь реализуем функцию, которая будет строить графики по получаемым метрикам."
   ]
  },
  {
   "cell_type": "code",
   "execution_count": 57,
   "metadata": {},
   "outputs": [
    {
     "data": {
      "image/png": "[encoded data removed]",
      "text/plain": [
       "<Figure size 1440x576 with 3 Axes>"
      ]
     },
     "metadata": {},
     "output_type": "display_data"
    }
   ],
   "source": [
    "def metrics_visualization(pb_keys: dict) -> print:\n",
    "    \n",
    "    # Предобработка входных данных\n",
    "    current_metrics = recalculate_metrics(pb_keys)\n",
    "    current_metrics.index.name = 'grp'\n",
    "    current_metrics.reset_index(inplace=True)\n",
    "    \n",
    "    # Стиль заднего фона\n",
    "    sns.set(font_scale=2, style=\"white\")\n",
    "    \n",
    "    # Добавление осей графикам\n",
    "    fig, axs = plt.subplots(1, 3, figsize=(20, 8))\n",
    "    \n",
    "    # Названия метрик \n",
    "    metric_labels = ['CR', 'ARPPU', 'ARPAU']\n",
    "    \n",
    "    # Построение графиков с подписанными значениями\n",
    "    for ax, label in zip(axs, metric_labels):\n",
    "        ax.bar(current_metrics['grp'], current_metrics[label], color=['silver', 'firebrick'])\n",
    "        ax.set(xlabel='', ylabel='')\n",
    "        ax.set_title(label, pad=20)\n",
    "        for p in ax.patches:\n",
    "            if label == 'CR':\n",
    "                format_val = '{:.2f}%'.format(p.get_height())\n",
    "            else:\n",
    "                format_val = '{:.1f}'.format(p.get_height())\n",
    "            x = p.get_x() + p.get_width() / 2\n",
    "            y = p.get_height()\n",
    "            ax.annotate(format_val, (x, y), ha='center', va='bottom', fontsize=20)\n",
    "    \n",
    "    # Создание заголовков и подписей   \n",
    "    fig.suptitle('Актуальные бизнес-метрики', fontsize=30)\n",
    "    fig.text(0.5, 0.01, 'Groups', ha='center', fontsize=25)\n",
    "    \n",
    "    # Настройка отображения\n",
    "    plt.subplots_adjust(wspace=0.3, left=0.11, top=0.8)\n",
    "    sns.despine()\n",
    "    plt.show()\n",
    "\n",
    "metrics_visualization(pb_keys)"
   ]
  },
  {
   "cell_type": "markdown",
   "metadata": {},
   "source": [
    "## Заключение:\n",
    "\n",
    "При использовании новой механики оплаты услуг не обнаружено существенное изменение конверсии из посещений сайта в оплату, однако статистически значимо повышается средний доход бизнеса с платящего пользователя. <br/> \n",
    "\n",
    "**Следовательно, новая механика считается эффективной и рекомендуется включать ее для всех пользователей.**\n",
    "\n",
    "**Примечание:** Нельзя не заметить, что в в тестовой группе возникает большой сегмент пользователей, которые приносят значительный доход бизнесу. Необходимо обратить внимание на этот сегмент пользователей и провести анализ. Возможно новая механика за счет оптимизации и удобства приобрела лояльность какого то конкретного типа пользователей (по статусу, по платежеспособности и т.д.). Данная информация может оказаться полезной для понимания конкурентных преимуществ нашего продукта."
   ]
  },
  {
   "cell_type": "markdown",
   "metadata": {},
   "source": [
    "# <u>Python + SQL (ClickHouse)<u> \n",
    "   \n",
    "В данном блоке проводился анализ деятельности образовательного проекта с использованием Python и SQL.<br/>\n",
    "    \n",
    "**Примечание:** После анализа результатов АБ-тестирования команда проекта попросила выполнить несколько ad-hoc задач, связанных с анализом деятельности проекта и проведенными ранее тестами.\n",
    "    \n",
    "## 2.1 EDA-анализ\n",
    "\n",
    "Получение основной информации о таблицах БД и изучение особенностей данных в них."
   ]
  },
  {
   "cell_type": "code",
   "execution_count": 58,
   "metadata": {},
   "outputs": [],
   "source": [
    "# Подключение к ClickHouse\n",
    "\n",
    "connection_default = {\n",
    "                      'host': 'https://clickhouse.lab.karpov.courses',\n",
    "                      'database':'default',\n",
    "                      'user':'student', \n",
    "                      'password':'dpo_python_2020'\n",
    "                      }"
   ]
  },
  {
   "cell_type": "markdown",
   "metadata": {},
   "source": [
    "### а) Данные о выполнении заданий на курсах (df_peas)"
   ]
  },
  {
   "cell_type": "code",
   "execution_count": 59,
   "metadata": {},
   "outputs": [
    {
     "data": {
      "text/html": [
       "<div>\n",
       "<style scoped>\n",
       "    .dataframe tbody tr th:only-of-type {\n",
       "        vertical-align: middle;\n",
       "    }\n",
       "\n",
       "    .dataframe tbody tr th {\n",
       "        vertical-align: top;\n",
       "    }\n",
       "\n",
       "    .dataframe thead th {\n",
       "        text-align: right;\n",
       "    }\n",
       "</style>\n",
       "<table border=\"1\" class=\"dataframe\">\n",
       "  <thead>\n",
       "    <tr style=\"text-align: right;\">\n",
       "      <th></th>\n",
       "      <th>st_id</th>\n",
       "      <th>correct</th>\n",
       "      <th>timest</th>\n",
       "      <th>subject</th>\n",
       "    </tr>\n",
       "  </thead>\n",
       "  <tbody>\n",
       "    <tr>\n",
       "      <th>0</th>\n",
       "      <td>100379</td>\n",
       "      <td>1</td>\n",
       "      <td>2021-10-30 13:32:29.000</td>\n",
       "      <td>Theory of probability</td>\n",
       "    </tr>\n",
       "    <tr>\n",
       "      <th>1</th>\n",
       "      <td>100379</td>\n",
       "      <td>0</td>\n",
       "      <td>2021-10-30 14:11:19.000</td>\n",
       "      <td>Vizualization</td>\n",
       "    </tr>\n",
       "    <tr>\n",
       "      <th>2</th>\n",
       "      <td>100379</td>\n",
       "      <td>1</td>\n",
       "      <td>2021-10-30 15:54:22.000</td>\n",
       "      <td>Theory of probability</td>\n",
       "    </tr>\n",
       "    <tr>\n",
       "      <th>3</th>\n",
       "      <td>100379</td>\n",
       "      <td>1</td>\n",
       "      <td>2021-10-30 16:44:50.000</td>\n",
       "      <td>Vizualization</td>\n",
       "    </tr>\n",
       "    <tr>\n",
       "      <th>4</th>\n",
       "      <td>100379</td>\n",
       "      <td>1</td>\n",
       "      <td>2021-10-30 17:15:05.000</td>\n",
       "      <td>Theory of probability</td>\n",
       "    </tr>\n",
       "  </tbody>\n",
       "</table>\n",
       "</div>"
      ],
      "text/plain": [
       "    st_id  correct                   timest                subject\n",
       "0  100379        1  2021-10-30 13:32:29.000  Theory of probability\n",
       "1  100379        0  2021-10-30 14:11:19.000          Vizualization\n",
       "2  100379        1  2021-10-30 15:54:22.000  Theory of probability\n",
       "3  100379        1  2021-10-30 16:44:50.000          Vizualization\n",
       "4  100379        1  2021-10-30 17:15:05.000  Theory of probability"
      ]
     },
     "execution_count": 59,
     "metadata": {},
     "output_type": "execute_result"
    }
   ],
   "source": [
    "sql_request = '''\n",
    "            SELECT\n",
    "                st_id,\n",
    "                correct,\n",
    "                timest::varchar as timest,\n",
    "                subject\n",
    "            FROM peas;\n",
    "            \n",
    "              '''\n",
    "df_peas = ph.read_clickhouse(sql_request, connection=connection_default)\n",
    "df_peas.head()"
   ]
  },
  {
   "cell_type": "code",
   "execution_count": 60,
   "metadata": {},
   "outputs": [
    {
     "data": {
      "text/plain": [
       "(13245, 4)"
      ]
     },
     "execution_count": 60,
     "metadata": {},
     "output_type": "execute_result"
    }
   ],
   "source": [
    "# Размер df\n",
    "\n",
    "df_peas.shape"
   ]
  },
  {
   "cell_type": "code",
   "execution_count": 61,
   "metadata": {},
   "outputs": [
    {
     "data": {
      "text/plain": [
       "st_id        308\n",
       "correct        2\n",
       "timest     12238\n",
       "subject        5\n",
       "dtype: int64"
      ]
     },
     "execution_count": 61,
     "metadata": {},
     "output_type": "execute_result"
    }
   ],
   "source": [
    "# Уникальные значения\n",
    "\n",
    "df_peas.nunique()"
   ]
  },
  {
   "cell_type": "markdown",
   "metadata": {},
   "source": [
    "**Примечание:** заметим, что время выполнения заданий (`timest`) не уникально, следовательно, возможно совпадение времени выполнения между студентами, а также аномалии одновременного выполнения нескольких заданий одним студентом."
   ]
  },
  {
   "cell_type": "code",
   "execution_count": 62,
   "metadata": {},
   "outputs": [
    {
     "data": {
      "text/html": [
       "<div>\n",
       "<style scoped>\n",
       "    .dataframe tbody tr th:only-of-type {\n",
       "        vertical-align: middle;\n",
       "    }\n",
       "\n",
       "    .dataframe tbody tr th {\n",
       "        vertical-align: top;\n",
       "    }\n",
       "\n",
       "    .dataframe thead th {\n",
       "        text-align: right;\n",
       "    }\n",
       "</style>\n",
       "<table border=\"1\" class=\"dataframe\">\n",
       "  <thead>\n",
       "    <tr style=\"text-align: right;\">\n",
       "      <th></th>\n",
       "      <th>st_id</th>\n",
       "      <th>correct</th>\n",
       "      <th>timest</th>\n",
       "      <th>subject</th>\n",
       "    </tr>\n",
       "  </thead>\n",
       "  <tbody>\n",
       "    <tr>\n",
       "      <th>1024</th>\n",
       "      <td>219238</td>\n",
       "      <td>0</td>\n",
       "      <td>2021-10-31 06:06:03.000</td>\n",
       "      <td>Python</td>\n",
       "    </tr>\n",
       "    <tr>\n",
       "      <th>1986</th>\n",
       "      <td>290349</td>\n",
       "      <td>1</td>\n",
       "      <td>2021-10-31 10:04:36.000</td>\n",
       "      <td>Theory of probability</td>\n",
       "    </tr>\n",
       "    <tr>\n",
       "      <th>5108</th>\n",
       "      <td>489093</td>\n",
       "      <td>0</td>\n",
       "      <td>2021-10-31 16:30:39.000</td>\n",
       "      <td>Math</td>\n",
       "    </tr>\n",
       "    <tr>\n",
       "      <th>6254</th>\n",
       "      <td>577659</td>\n",
       "      <td>0</td>\n",
       "      <td>2021-10-31 16:43:35.000</td>\n",
       "      <td>Vizualization</td>\n",
       "    </tr>\n",
       "    <tr>\n",
       "      <th>7468</th>\n",
       "      <td>658294</td>\n",
       "      <td>1</td>\n",
       "      <td>2021-10-30 15:55:05.000</td>\n",
       "      <td>Python</td>\n",
       "    </tr>\n",
       "    <tr>\n",
       "      <th>11519</th>\n",
       "      <td>899745</td>\n",
       "      <td>0</td>\n",
       "      <td>2021-10-31 17:22:15.000</td>\n",
       "      <td>Math</td>\n",
       "    </tr>\n",
       "    <tr>\n",
       "      <th>12721</th>\n",
       "      <td>976310</td>\n",
       "      <td>1</td>\n",
       "      <td>2021-10-31 17:10:39.000</td>\n",
       "      <td>Statistics</td>\n",
       "    </tr>\n",
       "  </tbody>\n",
       "</table>\n",
       "</div>"
      ],
      "text/plain": [
       "        st_id  correct                   timest                subject\n",
       "1024   219238        0  2021-10-31 06:06:03.000                 Python\n",
       "1986   290349        1  2021-10-31 10:04:36.000  Theory of probability\n",
       "5108   489093        0  2021-10-31 16:30:39.000                   Math\n",
       "6254   577659        0  2021-10-31 16:43:35.000          Vizualization\n",
       "7468   658294        1  2021-10-30 15:55:05.000                 Python\n",
       "11519  899745        0  2021-10-31 17:22:15.000                   Math\n",
       "12721  976310        1  2021-10-31 17:10:39.000             Statistics"
      ]
     },
     "execution_count": 62,
     "metadata": {},
     "output_type": "execute_result"
    }
   ],
   "source": [
    "# Пример аномалий в данных (встречаются полные дубликаты)\n",
    "\n",
    "df_peas[df_peas.duplicated()]"
   ]
  },
  {
   "cell_type": "code",
   "execution_count": 63,
   "metadata": {},
   "outputs": [
    {
     "data": {
      "text/plain": [
       "st_id      0\n",
       "correct    0\n",
       "timest     0\n",
       "subject    0\n",
       "dtype: int64"
      ]
     },
     "execution_count": 63,
     "metadata": {},
     "output_type": "execute_result"
    }
   ],
   "source": [
    "# Пропущенных значений не обнаружено\n",
    "\n",
    "df_peas.isna().sum()"
   ]
  },
  {
   "cell_type": "markdown",
   "metadata": {},
   "source": [
    "### б) Распредение студентов по группам (df_studs)"
   ]
  },
  {
   "cell_type": "code",
   "execution_count": 64,
   "metadata": {},
   "outputs": [
    {
     "data": {
      "text/html": [
       "<div>\n",
       "<style scoped>\n",
       "    .dataframe tbody tr th:only-of-type {\n",
       "        vertical-align: middle;\n",
       "    }\n",
       "\n",
       "    .dataframe tbody tr th {\n",
       "        vertical-align: top;\n",
       "    }\n",
       "\n",
       "    .dataframe thead th {\n",
       "        text-align: right;\n",
       "    }\n",
       "</style>\n",
       "<table border=\"1\" class=\"dataframe\">\n",
       "  <thead>\n",
       "    <tr style=\"text-align: right;\">\n",
       "      <th></th>\n",
       "      <th>st_id</th>\n",
       "      <th>test_grp</th>\n",
       "    </tr>\n",
       "  </thead>\n",
       "  <tbody>\n",
       "    <tr>\n",
       "      <th>0</th>\n",
       "      <td>100379</td>\n",
       "      <td>pilot</td>\n",
       "    </tr>\n",
       "    <tr>\n",
       "      <th>1</th>\n",
       "      <td>101432</td>\n",
       "      <td>control</td>\n",
       "    </tr>\n",
       "    <tr>\n",
       "      <th>2</th>\n",
       "      <td>104818</td>\n",
       "      <td>pilot</td>\n",
       "    </tr>\n",
       "    <tr>\n",
       "      <th>3</th>\n",
       "      <td>104885</td>\n",
       "      <td>pilot</td>\n",
       "    </tr>\n",
       "    <tr>\n",
       "      <th>4</th>\n",
       "      <td>104966</td>\n",
       "      <td>pilot</td>\n",
       "    </tr>\n",
       "  </tbody>\n",
       "</table>\n",
       "</div>"
      ],
      "text/plain": [
       "    st_id test_grp\n",
       "0  100379    pilot\n",
       "1  101432  control\n",
       "2  104818    pilot\n",
       "3  104885    pilot\n",
       "4  104966    pilot"
      ]
     },
     "execution_count": 64,
     "metadata": {},
     "output_type": "execute_result"
    }
   ],
   "source": [
    "sql_request = '''\n",
    "            SELECT *\n",
    "            FROM studs;\n",
    "            \n",
    "              '''\n",
    "df_studs = ph.read_clickhouse(sql_request, connection=connection_default)\n",
    "df_studs.head()"
   ]
  },
  {
   "cell_type": "code",
   "execution_count": 65,
   "metadata": {},
   "outputs": [
    {
     "data": {
      "text/plain": [
       "(600, 2)"
      ]
     },
     "execution_count": 65,
     "metadata": {},
     "output_type": "execute_result"
    }
   ],
   "source": [
    "# Размер df\n",
    "\n",
    "df_studs.shape"
   ]
  },
  {
   "cell_type": "code",
   "execution_count": 66,
   "metadata": {},
   "outputs": [
    {
     "data": {
      "text/plain": [
       "st_id       600\n",
       "test_grp      2\n",
       "dtype: int64"
      ]
     },
     "execution_count": 66,
     "metadata": {},
     "output_type": "execute_result"
    }
   ],
   "source": [
    "# Значения в таблице полностью уникальны\n",
    "\n",
    "df_studs.nunique()"
   ]
  },
  {
   "cell_type": "code",
   "execution_count": 67,
   "metadata": {},
   "outputs": [
    {
     "data": {
      "text/plain": [
       "st_id       0\n",
       "test_grp    0\n",
       "dtype: int64"
      ]
     },
     "execution_count": 67,
     "metadata": {},
     "output_type": "execute_result"
    }
   ],
   "source": [
    "# Пропущенных значений не обнаружено\n",
    "\n",
    "df_studs.isna().sum()"
   ]
  },
  {
   "cell_type": "markdown",
   "metadata": {},
   "source": [
    "### в) Данные о покупках платных подписок на курсы (df_checks)"
   ]
  },
  {
   "cell_type": "code",
   "execution_count": 68,
   "metadata": {},
   "outputs": [
    {
     "data": {
      "text/html": [
       "<div>\n",
       "<style scoped>\n",
       "    .dataframe tbody tr th:only-of-type {\n",
       "        vertical-align: middle;\n",
       "    }\n",
       "\n",
       "    .dataframe tbody tr th {\n",
       "        vertical-align: top;\n",
       "    }\n",
       "\n",
       "    .dataframe thead th {\n",
       "        text-align: right;\n",
       "    }\n",
       "</style>\n",
       "<table border=\"1\" class=\"dataframe\">\n",
       "  <thead>\n",
       "    <tr style=\"text-align: right;\">\n",
       "      <th></th>\n",
       "      <th>st_id</th>\n",
       "      <th>sale_time</th>\n",
       "      <th>money</th>\n",
       "      <th>subject</th>\n",
       "    </tr>\n",
       "  </thead>\n",
       "  <tbody>\n",
       "    <tr>\n",
       "      <th>0</th>\n",
       "      <td>101432</td>\n",
       "      <td>2021-10-31 04:44:32.000</td>\n",
       "      <td>85000</td>\n",
       "      <td>Math</td>\n",
       "    </tr>\n",
       "    <tr>\n",
       "      <th>1</th>\n",
       "      <td>101432</td>\n",
       "      <td>2021-10-31 12:43:50.000</td>\n",
       "      <td>65000</td>\n",
       "      <td>Vizualization</td>\n",
       "    </tr>\n",
       "    <tr>\n",
       "      <th>2</th>\n",
       "      <td>104885</td>\n",
       "      <td>2021-10-30 17:05:55.000</td>\n",
       "      <td>65000</td>\n",
       "      <td>Vizualization</td>\n",
       "    </tr>\n",
       "    <tr>\n",
       "      <th>3</th>\n",
       "      <td>104885</td>\n",
       "      <td>2021-10-30 22:49:33.000</td>\n",
       "      <td>75000</td>\n",
       "      <td>Statistics</td>\n",
       "    </tr>\n",
       "    <tr>\n",
       "      <th>4</th>\n",
       "      <td>106464</td>\n",
       "      <td>2021-10-31 13:17:13.000</td>\n",
       "      <td>85000</td>\n",
       "      <td>Math</td>\n",
       "    </tr>\n",
       "  </tbody>\n",
       "</table>\n",
       "</div>"
      ],
      "text/plain": [
       "    st_id                sale_time  money        subject\n",
       "0  101432  2021-10-31 04:44:32.000  85000           Math\n",
       "1  101432  2021-10-31 12:43:50.000  65000  Vizualization\n",
       "2  104885  2021-10-30 17:05:55.000  65000  Vizualization\n",
       "3  104885  2021-10-30 22:49:33.000  75000     Statistics\n",
       "4  106464  2021-10-31 13:17:13.000  85000           Math"
      ]
     },
     "execution_count": 68,
     "metadata": {},
     "output_type": "execute_result"
    }
   ],
   "source": [
    "sql_request = '''\n",
    "            SELECT\n",
    "                st_id,\n",
    "                sale_time::varchar as sale_time,\n",
    "                money,\n",
    "                subject\n",
    "            FROM final_project_check;\n",
    "            \n",
    "              '''\n",
    "df_checks = ph.read_clickhouse(sql_request, connection=connection_default)\n",
    "df_checks.head()"
   ]
  },
  {
   "cell_type": "code",
   "execution_count": 69,
   "metadata": {
    "scrolled": true
   },
   "outputs": [
    {
     "data": {
      "text/plain": [
       "(61, 4)"
      ]
     },
     "execution_count": 69,
     "metadata": {},
     "output_type": "execute_result"
    }
   ],
   "source": [
    "# Размер df\n",
    "\n",
    "df_checks.shape"
   ]
  },
  {
   "cell_type": "code",
   "execution_count": 70,
   "metadata": {},
   "outputs": [
    {
     "data": {
      "text/plain": [
       "st_id        47\n",
       "sale_time    61\n",
       "money         5\n",
       "subject       5\n",
       "dtype: int64"
      ]
     },
     "execution_count": 70,
     "metadata": {},
     "output_type": "execute_result"
    }
   ],
   "source": [
    "# Уникальные значения\n",
    "\n",
    "df_checks.nunique()"
   ]
  },
  {
   "cell_type": "code",
   "execution_count": 71,
   "metadata": {},
   "outputs": [
    {
     "data": {
      "text/plain": [
       "st_id        0\n",
       "sale_time    0\n",
       "money        0\n",
       "subject      0\n",
       "dtype: int64"
      ]
     },
     "execution_count": 71,
     "metadata": {},
     "output_type": "execute_result"
    }
   ],
   "source": [
    "# Пропущенных значений не обнаружено\n",
    "\n",
    "df_checks.isna().sum()"
   ]
  },
  {
   "cell_type": "markdown",
   "metadata": {},
   "source": [
    "## 2.2 Определение наиболее активных учеников\n",
    "\n",
    "Образовательные курсы состоят из различных уроков, каждый из которых состоит из нескольких маленьких заданий ('горошин'). Назовём наиболее активным учеником того пользователя, который хотя бы раз за текущий месяц правильно решил хотя бы 20 заданий. <br/>\n",
    "\n",
    "Необходимо написать оптимальный запрос, который даст информацию о количестве очень усердных студентов."
   ]
  },
  {
   "cell_type": "code",
   "execution_count": 72,
   "metadata": {},
   "outputs": [
    {
     "name": "stdout",
     "output_type": "stream",
     "text": [
      "В текущем месяце 136 наиболее активных студентов\n"
     ]
    }
   ],
   "source": [
    "# Оптимальный вариант запроса\n",
    "\n",
    "sql_request = '''\n",
    "            WITH (\n",
    "               SELECT\n",
    "                    MAX(toStartOfMonth(timest))\n",
    "               FROM peas\n",
    "            ) as current_month\n",
    "    \n",
    "            SELECT\n",
    "                COUNT(DISTINCT st_id) FILTER (WHERE cnt_correct_ex >= 20) diligent_students\n",
    "            FROM (\n",
    "                SELECT\n",
    "                    st_id,\n",
    "                    SUM(correct) OVER (PARTITION BY st_id) as cnt_correct_ex\n",
    "                FROM peas\n",
    "                WHERE toStartOfMonth(timest) = current_month\n",
    "            ) as tb;\n",
    "            \n",
    "              '''\n",
    "students = ph.read_clickhouse(sql_request, connection=connection_default)\n",
    "print(f'В текущем месяце {students.diligent_students[0]} наиболее активных студентов')"
   ]
  },
  {
   "cell_type": "markdown",
   "metadata": {},
   "source": [
    "**Примечание**: \n",
    "- Common Table Expressions (CTE) используется, чтобы всегда выбирать последний месяц в данных (current_month) при использовании запроса (в нашем случае его можно было не использовать так как в данных только один месяц).\n",
    "- uniqExact применяется, чтобы избежать подсчета возможных дубликатов (очевидно, что время выполнения \"горошин\" не может быть одинаковым с точностью до секунд у одного и того же студента, однако в данных такое встречается)."
   ]
  },
  {
   "cell_type": "markdown",
   "metadata": {},
   "source": [
    "## 2.3 Расчет продуктовых мерик в группах\n",
    "\n",
    "Команда провела эксперимент, где был протестирован новый экран оплаты.\n",
    "Необходимо в одном запросе выгрузить следующую информацию о группах пользователей:\n",
    "\n",
    "- ARPU \n",
    "- ARPAU \n",
    "- CR в покупку \n",
    "- СR активного пользователя в покупку \n",
    "- CR пользователя из активности по математике (subject = ’math’) в покупку курса по математике\n",
    "\n",
    "**Активным** считается пользователь, за все время решивший больше 10 задач правильно в любых дисциплинах.<br/>\n",
    "**Активным по математике** считается пользователь, за все время решивший 2 или больше задач правильно по математике."
   ]
  },
  {
   "cell_type": "code",
   "execution_count": 73,
   "metadata": {},
   "outputs": [
    {
     "data": {
      "text/html": [
       "<div>\n",
       "<style scoped>\n",
       "    .dataframe tbody tr th:only-of-type {\n",
       "        vertical-align: middle;\n",
       "    }\n",
       "\n",
       "    .dataframe tbody tr th {\n",
       "        vertical-align: top;\n",
       "    }\n",
       "\n",
       "    .dataframe thead th {\n",
       "        text-align: right;\n",
       "    }\n",
       "</style>\n",
       "<table border=\"1\" class=\"dataframe\">\n",
       "  <thead>\n",
       "    <tr style=\"text-align: right;\">\n",
       "      <th></th>\n",
       "      <th>group</th>\n",
       "      <th>ARPU</th>\n",
       "      <th>ARPAU</th>\n",
       "      <th>CR_purchase</th>\n",
       "      <th>CR_purchase_active</th>\n",
       "      <th>CR_purchase_active_math</th>\n",
       "    </tr>\n",
       "  </thead>\n",
       "  <tbody>\n",
       "    <tr>\n",
       "      <th>0</th>\n",
       "      <td>control</td>\n",
       "      <td>4540.98</td>\n",
       "      <td>10905.51</td>\n",
       "      <td>4.92</td>\n",
       "      <td>11.02</td>\n",
       "      <td>6.12</td>\n",
       "    </tr>\n",
       "    <tr>\n",
       "      <th>1</th>\n",
       "      <td>pilot</td>\n",
       "      <td>11508.47</td>\n",
       "      <td>35364.58</td>\n",
       "      <td>10.85</td>\n",
       "      <td>26.04</td>\n",
       "      <td>9.52</td>\n",
       "    </tr>\n",
       "  </tbody>\n",
       "</table>\n",
       "</div>"
      ],
      "text/plain": [
       "     group      ARPU     ARPAU  CR_purchase  CR_purchase_active  \\\n",
       "0  control   4540.98  10905.51         4.92               11.02   \n",
       "1    pilot  11508.47  35364.58        10.85               26.04   \n",
       "\n",
       "   CR_purchase_active_math  \n",
       "0                     6.12  \n",
       "1                     9.52  "
      ]
     },
     "execution_count": 73,
     "metadata": {},
     "output_type": "execute_result"
    }
   ],
   "source": [
    "sql_request = '''\n",
    "    WITH active_users as (\n",
    "        SELECT st_id\n",
    "        FROM peas\n",
    "        WHERE correct = 1\n",
    "        GROUP BY st_id\n",
    "        HAVING COUNT(DISTINCT timest) > 10\n",
    "    ),\n",
    "    active_math_users as (\n",
    "        SELECT st_id\n",
    "        FROM peas\n",
    "        WHERE correct = 1\n",
    "            AND subject = 'Math'\n",
    "        GROUP BY st_id\n",
    "        HAVING COUNT(DISTINCT timest) >= 2\n",
    "    ),\n",
    "    metric_info as (\n",
    "        SELECT \n",
    "            test_grp,\n",
    "            COALESCE(SUM(money), 0)                                                                   as Revenue,\n",
    "            COUNT(DISTINCT st_id)                                                                     as All_users,\n",
    "            COUNT(DISTINCT st_id) FILTER (WHERE st_id IN (SELECT * FROM active_users))                as Active_users,\n",
    "            COUNT(DISTINCT st_id) FILTER (WHERE money <> 0)                                           as Customers,\n",
    "            COUNT(DISTINCT st_id) FILTER (WHERE money <> 0 AND st_id IN (SELECT * FROM active_users)) as Active_customers,\n",
    "            COUNT(DISTINCT st_id) FILTER (WHERE st_id IN (SELECT * FROM active_math_users))           as Active_users_math,\n",
    "            COUNT(DISTINCT st_id) FILTER (WHERE subject = 'Math' \n",
    "                                            AND st_id IN (SELECT * FROM active_math_users))           as Active_customers_math\n",
    "        FROM \n",
    "            studs\n",
    "        LEFT JOIN final_project_check\n",
    "            USING(st_id)\n",
    "        GROUP BY \n",
    "            test_grp\n",
    "    )\n",
    "\n",
    "    SELECT\n",
    "        test_grp as group,\n",
    "        ROUND(Revenue / NULLIF(All_users, 0), 2) as ARPU,\n",
    "        ROUND(Revenue / NULLIF(Active_users, 0), 2) as ARPAU,\n",
    "        ROUND(Customers / NULLIF(All_users, 0), 4) * 100  as CR_purchase,\n",
    "        ROUND(Active_customers / NULLIF(Active_users, 0), 4) * 100  as CR_purchase_active,\n",
    "        ROUND(Active_customers_math / NULLIF(Active_users_math, 0), 4) * 100  as CR_purchase_active_math\n",
    "    FROM metric_info;\n",
    "    \n",
    "              '''\n",
    "metrics = ph.read_clickhouse(sql_request, connection=connection_default)\n",
    "metrics"
   ]
  },
  {
   "cell_type": "markdown",
   "metadata": {},
   "source": [
    "**Примечание**:\n",
    "- Первые подзапросы в Common Table Expressions (CTE) используются, чтобы выбрать отдельно активных (active_users) и активных по математике (active_math_users) пользователей. \n",
    "- В последствии эти подзапросы используются внутри следующего CTE подзапроса (metric_info) для продвинутой фильтрации с помощью оператора FILTER WHERE. Схожий функционал возможно реализовать и с применением оператора CASE, однако в контексте задачи видится целесообразным применять более компактный метод.\n",
    "- Необходимость использования COUNT(DISTINCT ..) объясняется тем, что в при использовании LEFT JOIN декартово произведение дублирует st_id для пользователей купивших несколько платных курсов и данная колонка БД теряет свойство уникальности данных, выявленное при EDA-анализе. \n",
    "- Применение оператора COALESCE при подсчете маржинальной прибыли образовательного проекта необязательно, однако обеспечивает гибкость и надежность запроса, например, в случаях когда платных покупок курсов не совершено.\n",
    "- Аналогично предыдущему оператор NULLIF позволяет также обеспечить надежность и гибкость запроса, например, в случаях, когда количество активных пользователей может быть равно нулю."
   ]
  },
  {
   "cell_type": "markdown",
   "metadata": {},
   "source": [
    "## Заключение:\n",
    "Во второй части проекта выполнены ad-hoc задачи по запросу команды образовательного проекта:\n",
    "- Проведен EDA-анализ данных в таблицах БД (SQL) образовательного проекта;\n",
    "- Выявлено что за последний месяц 136 наиболее активных учеников;\n",
    "- Выгружена информация о метриках, отражающих результаты проведенного командой АБ-тестирования (но не проверялась статистическая значимость изменений метрик в группах)."
   ]
  }
 ],
 "metadata": {
  "kernelspec": {
   "display_name": "Python 3",
   "language": "python",
   "name": "python3"
  },
  "language_info": {
   "codemirror_mode": {
    "name": "ipython",
    "version": 3
   },
   "file_extension": ".py",
   "mimetype": "text/x-python",
   "name": "python",
   "nbconvert_exporter": "python",
   "pygments_lexer": "ipython3",
   "version": "3.7.3"
  }
 },
 "nbformat": 4,
 "nbformat_minor": 4
}
